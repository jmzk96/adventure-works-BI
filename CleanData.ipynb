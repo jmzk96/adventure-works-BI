{
 "cells": [
  {
   "cell_type": "code",
   "execution_count": 1,
   "metadata": {},
   "outputs": [],
   "source": [
    "import pandas as pd"
   ]
  },
  {
   "cell_type": "code",
   "execution_count": 6,
   "metadata": {},
   "outputs": [],
   "source": [
    "purchaseorderdetail = pd.read_csv(\"./data/PurchaseOrderDetail.csv\",sep=\"\\t\")"
   ]
  },
  {
   "cell_type": "code",
   "execution_count": 11,
   "metadata": {},
   "outputs": [],
   "source": [
    "purchaseorderdetail.drop(purchaseorderdetail.columns[[6,9]],axis=1).to_csv(\"./data/PurchaseOrderDetail_cleaned.csv\",sep=\"\\t\",index=False)"
   ]
  },
  {
   "cell_type": "code",
   "execution_count": 12,
   "metadata": {},
   "outputs": [],
   "source": [
    "purchaseorderheader = pd.read_csv(\"./data/PurchaseOrderHeader.csv\",sep=\"\\t\")"
   ]
  },
  {
   "cell_type": "code",
   "execution_count": 14,
   "metadata": {},
   "outputs": [],
   "source": [
    "purchaseorderheader.drop(purchaseorderheader.columns[[10]],axis=1).to_csv(\"./data/PurchaseOrderHeader_cleaned.csv\",sep=\"\\t\",index=False)"
   ]
  },
  {
   "cell_type": "code",
   "execution_count": 16,
   "metadata": {},
   "outputs": [],
   "source": [
    "customer = pd.read_csv(\"./data/Customer.csv\",sep=\"\\t\")"
   ]
  },
  {
   "cell_type": "code",
   "execution_count": 18,
   "metadata": {},
   "outputs": [],
   "source": [
    "salesorderdetail = pd.read_csv(\"./data/SalesOrderDetail.csv\",sep=\"\\t\")"
   ]
  },
  {
   "cell_type": "code",
   "execution_count": 20,
   "metadata": {},
   "outputs": [],
   "source": [
    "salesorderdetail.drop(salesorderdetail.columns[[8]],axis=1).to_csv(\"./data/SalesOrderDetail_cleaned.csv\",sep=\"\\t\",index=False)"
   ]
  },
  {
   "cell_type": "code",
   "execution_count": 21,
   "metadata": {},
   "outputs": [],
   "source": [
    "salesorderheader = pd.read_csv(\"./data/SalesOrderHeader.csv\",sep=\"\\t\")"
   ]
  },
  {
   "cell_type": "code",
   "execution_count": 30,
   "metadata": {},
   "outputs": [
    {
     "data": {
      "text/plain": [
       "43659                                                                      43660\n",
       "8                                                                              8\n",
       "2011-05-31 00:00:00                                          2011-05-31 00:00:00\n",
       "2011-06-12 00:00:00                                          2011-06-12 00:00:00\n",
       "2011-06-07 00:00:00                                          2011-06-07 00:00:00\n",
       "5                                                                              5\n",
       "0                                                                              0\n",
       "SO43659                                                                  SO43660\n",
       "PO522145787                                                        PO18850127500\n",
       "10-4020-000676                                                    10-4020-000117\n",
       "29825                                                                      29672\n",
       "279                                                                        279.0\n",
       "5.1                                                                            5\n",
       "985                                                                          921\n",
       "985.1                                                                        921\n",
       "5.2                                                                            5\n",
       "16281                                                                     5618.0\n",
       "105041Vi84182                                                      115213Vi29411\n",
       "Unnamed: 18                                                                  NaN\n",
       "20565.6206                                                             1294.2529\n",
       "1971.5149                                                               124.2483\n",
       "616.0984                                                                 38.8276\n",
       "23153.2339                                                             1457.3288\n",
       "Unnamed: 23                                                                  NaN\n",
       "{79B65321-39CA-4115-9CBA-8FE0903E12E6}    {738DC42D-D03B-48A1-9822-F95A67EA7389}\n",
       "2011-06-07 00:00:00.1                                        2011-06-07 00:00:00\n",
       "Name: 0, dtype: object"
      ]
     },
     "execution_count": 30,
     "metadata": {},
     "output_type": "execute_result"
    }
   ],
   "source": [
    "salesorderheader.iloc[0]"
   ]
  },
  {
   "cell_type": "code",
   "execution_count": 31,
   "metadata": {},
   "outputs": [],
   "source": [
    "salesorderheader.drop(salesorderheader.columns[[7]],axis=1).to_csv(\"./data/SalesOrderHeader_cleaned.csv\",sep=\"\\t\",index=False)"
   ]
  },
  {
   "cell_type": "code",
   "execution_count": 33,
   "metadata": {},
   "outputs": [],
   "source": [
    "salesreason =  pd.read_csv(\"./data/SalesOrderHeaderSalesReason.csv\",sep=\"\\t\")"
   ]
  },
  {
   "cell_type": "code",
   "execution_count": 35,
   "metadata": {},
   "outputs": [
    {
     "data": {
      "text/html": [
       "<div>\n",
       "<style scoped>\n",
       "    .dataframe tbody tr th:only-of-type {\n",
       "        vertical-align: middle;\n",
       "    }\n",
       "\n",
       "    .dataframe tbody tr th {\n",
       "        vertical-align: top;\n",
       "    }\n",
       "\n",
       "    .dataframe thead th {\n",
       "        text-align: right;\n",
       "    }\n",
       "</style>\n",
       "<table border=\"1\" class=\"dataframe\">\n",
       "  <thead>\n",
       "    <tr style=\"text-align: right;\">\n",
       "      <th></th>\n",
       "      <th>1</th>\n",
       "      <th>Unnamed: 1</th>\n",
       "      <th>934</th>\n",
       "      <th>1.1</th>\n",
       "      <th>AW00000001</th>\n",
       "      <th>{3F5AE95E-B87D-4AED-95B4-C3797AFCB74F}</th>\n",
       "      <th>2014-09-12 11:15:07.263000000</th>\n",
       "    </tr>\n",
       "  </thead>\n",
       "  <tbody>\n",
       "    <tr>\n",
       "      <th>0</th>\n",
       "      <td>2</td>\n",
       "      <td>NaN</td>\n",
       "      <td>1028.0</td>\n",
       "      <td>1</td>\n",
       "      <td>AW00000002</td>\n",
       "      <td>{E552F657-A9AF-4A7D-A645-C429D6E02491}</td>\n",
       "      <td>2014-09-12 11:15:07.263000000</td>\n",
       "    </tr>\n",
       "    <tr>\n",
       "      <th>1</th>\n",
       "      <td>3</td>\n",
       "      <td>NaN</td>\n",
       "      <td>642.0</td>\n",
       "      <td>4</td>\n",
       "      <td>AW00000003</td>\n",
       "      <td>{130774B1-DB21-4EF3-98C8-C104BCD6ED6D}</td>\n",
       "      <td>2014-09-12 11:15:07.263000000</td>\n",
       "    </tr>\n",
       "    <tr>\n",
       "      <th>2</th>\n",
       "      <td>4</td>\n",
       "      <td>NaN</td>\n",
       "      <td>932.0</td>\n",
       "      <td>4</td>\n",
       "      <td>AW00000004</td>\n",
       "      <td>{FF862851-1DAA-4044-BE7C-3E85583C054D}</td>\n",
       "      <td>2014-09-12 11:15:07.263000000</td>\n",
       "    </tr>\n",
       "    <tr>\n",
       "      <th>3</th>\n",
       "      <td>5</td>\n",
       "      <td>NaN</td>\n",
       "      <td>1026.0</td>\n",
       "      <td>4</td>\n",
       "      <td>AW00000005</td>\n",
       "      <td>{83905BDC-6F5E-4F71-B162-C98DA069F38A}</td>\n",
       "      <td>2014-09-12 11:15:07.263000000</td>\n",
       "    </tr>\n",
       "    <tr>\n",
       "      <th>4</th>\n",
       "      <td>6</td>\n",
       "      <td>NaN</td>\n",
       "      <td>644.0</td>\n",
       "      <td>4</td>\n",
       "      <td>AW00000006</td>\n",
       "      <td>{1A92DF88-BFA2-467D-BD54-FCB9E647FDD7}</td>\n",
       "      <td>2014-09-12 11:15:07.263000000</td>\n",
       "    </tr>\n",
       "    <tr>\n",
       "      <th>...</th>\n",
       "      <td>...</td>\n",
       "      <td>...</td>\n",
       "      <td>...</td>\n",
       "      <td>...</td>\n",
       "      <td>...</td>\n",
       "      <td>...</td>\n",
       "      <td>...</td>\n",
       "    </tr>\n",
       "    <tr>\n",
       "      <th>19814</th>\n",
       "      <td>30114</td>\n",
       "      <td>1985.0</td>\n",
       "      <td>1986.0</td>\n",
       "      <td>7</td>\n",
       "      <td>AW00030114</td>\n",
       "      <td>{97154F3D-28F1-4B15-AE03-9518B781ECE3}</td>\n",
       "      <td>2014-09-12 11:15:07.263000000</td>\n",
       "    </tr>\n",
       "    <tr>\n",
       "      <th>19815</th>\n",
       "      <td>30115</td>\n",
       "      <td>1987.0</td>\n",
       "      <td>1988.0</td>\n",
       "      <td>6</td>\n",
       "      <td>AW00030115</td>\n",
       "      <td>{E4CF8FD5-30A4-4B8E-8FD8-47032E255778}</td>\n",
       "      <td>2014-09-12 11:15:07.263000000</td>\n",
       "    </tr>\n",
       "    <tr>\n",
       "      <th>19816</th>\n",
       "      <td>30116</td>\n",
       "      <td>1989.0</td>\n",
       "      <td>1990.0</td>\n",
       "      <td>4</td>\n",
       "      <td>AW00030116</td>\n",
       "      <td>{EC409609-D25D-41B8-9D15-A1AA6E89FC77}</td>\n",
       "      <td>2014-09-12 11:15:07.263000000</td>\n",
       "    </tr>\n",
       "    <tr>\n",
       "      <th>19817</th>\n",
       "      <td>30117</td>\n",
       "      <td>1991.0</td>\n",
       "      <td>1992.0</td>\n",
       "      <td>4</td>\n",
       "      <td>AW00030117</td>\n",
       "      <td>{6F08E2FB-1CD3-4F6E-A2E6-385669598B19}</td>\n",
       "      <td>2014-09-12 11:15:07.263000000</td>\n",
       "    </tr>\n",
       "    <tr>\n",
       "      <th>19818</th>\n",
       "      <td>30118</td>\n",
       "      <td>1993.0</td>\n",
       "      <td>1994.0</td>\n",
       "      <td>3</td>\n",
       "      <td>AW00030118</td>\n",
       "      <td>{2495B4EB-FE8B-459E-A1B6-DBA25C04E626}</td>\n",
       "      <td>2014-09-12 11:15:07.263000000</td>\n",
       "    </tr>\n",
       "  </tbody>\n",
       "</table>\n",
       "<p>19819 rows × 7 columns</p>\n",
       "</div>"
      ],
      "text/plain": [
       "           1  Unnamed: 1     934  1.1  AW00000001   \n",
       "0          2         NaN  1028.0    1  AW00000002  \\\n",
       "1          3         NaN   642.0    4  AW00000003   \n",
       "2          4         NaN   932.0    4  AW00000004   \n",
       "3          5         NaN  1026.0    4  AW00000005   \n",
       "4          6         NaN   644.0    4  AW00000006   \n",
       "...      ...         ...     ...  ...         ...   \n",
       "19814  30114      1985.0  1986.0    7  AW00030114   \n",
       "19815  30115      1987.0  1988.0    6  AW00030115   \n",
       "19816  30116      1989.0  1990.0    4  AW00030116   \n",
       "19817  30117      1991.0  1992.0    4  AW00030117   \n",
       "19818  30118      1993.0  1994.0    3  AW00030118   \n",
       "\n",
       "       {3F5AE95E-B87D-4AED-95B4-C3797AFCB74F}  2014-09-12 11:15:07.263000000  \n",
       "0      {E552F657-A9AF-4A7D-A645-C429D6E02491}  2014-09-12 11:15:07.263000000  \n",
       "1      {130774B1-DB21-4EF3-98C8-C104BCD6ED6D}  2014-09-12 11:15:07.263000000  \n",
       "2      {FF862851-1DAA-4044-BE7C-3E85583C054D}  2014-09-12 11:15:07.263000000  \n",
       "3      {83905BDC-6F5E-4F71-B162-C98DA069F38A}  2014-09-12 11:15:07.263000000  \n",
       "4      {1A92DF88-BFA2-467D-BD54-FCB9E647FDD7}  2014-09-12 11:15:07.263000000  \n",
       "...                                       ...                            ...  \n",
       "19814  {97154F3D-28F1-4B15-AE03-9518B781ECE3}  2014-09-12 11:15:07.263000000  \n",
       "19815  {E4CF8FD5-30A4-4B8E-8FD8-47032E255778}  2014-09-12 11:15:07.263000000  \n",
       "19816  {EC409609-D25D-41B8-9D15-A1AA6E89FC77}  2014-09-12 11:15:07.263000000  \n",
       "19817  {6F08E2FB-1CD3-4F6E-A2E6-385669598B19}  2014-09-12 11:15:07.263000000  \n",
       "19818  {2495B4EB-FE8B-459E-A1B6-DBA25C04E626}  2014-09-12 11:15:07.263000000  \n",
       "\n",
       "[19819 rows x 7 columns]"
      ]
     },
     "execution_count": 35,
     "metadata": {},
     "output_type": "execute_result"
    }
   ],
   "source": [
    "customer"
   ]
  },
  {
   "cell_type": "code",
   "execution_count": null,
   "metadata": {},
   "outputs": [],
   "source": []
  }
 ],
 "metadata": {
  "kernelspec": {
   "display_name": "Python 3",
   "language": "python",
   "name": "python3"
  },
  "language_info": {
   "codemirror_mode": {
    "name": "ipython",
    "version": 3
   },
   "file_extension": ".py",
   "mimetype": "text/x-python",
   "name": "python",
   "nbconvert_exporter": "python",
   "pygments_lexer": "ipython3",
   "version": "3.8.5"
  }
 },
 "nbformat": 4,
 "nbformat_minor": 4
}
